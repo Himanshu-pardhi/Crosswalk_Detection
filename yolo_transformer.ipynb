{
 "cells": [
  {
   "cell_type": "markdown",
   "metadata": {},
   "source": [
    "## Import Libraries"
   ]
  },
  {
   "cell_type": "code",
   "execution_count": null,
   "metadata": {},
   "outputs": [],
   "source": [
    "# import the required libraries\n",
    "import pandas as pd\n",
    "import os"
   ]
  },
  {
   "cell_type": "code",
   "execution_count": null,
   "metadata": {},
   "outputs": [],
   "source": [
    "df = pd.read_csv('../no_zebra_img11.csv')\n",
    "df = df.drop_duplicates(subset='imagePath')\n",
    "df['imagePath'] = df['imagePath'].apply(lambda x: x.split('.')[0])\n",
    "df['x_center'] = (df['xmin'] + df['xmax'])/2\n",
    "df['y_center'] = (df['ymin'] + df['ymax'])/2\n",
    "df['w'] = df['xmax'] - df['xmin']\n",
    "df['h'] = df['ymax'] - df['ymin']\n",
    "df['classes'] = 0\n",
    "df['x_center'] = df['x_center']/640\n",
    "df['w'] = df['w']/640\n",
    "df['y_center'] = df['y_center']/360\n",
    "df['h'] = df['h']/360"
   ]
  },
  {
   "cell_type": "code",
   "execution_count": null,
   "metadata": {},
   "outputs": [],
   "source": [
    "df= df.drop(columns=['xmin', 'ymin','xmax','ymax'])\n",
    "df = df[['imagePath','classes','x_center','y_center','w','h']]\n",
    "df.head()"
   ]
  },
  {
   "cell_type": "code",
   "execution_count": null,
   "metadata": {},
   "outputs": [],
   "source": [
    "df['imagePath']"
   ]
  },
  {
   "cell_type": "code",
   "execution_count": null,
   "metadata": {},
   "outputs": [],
   "source": [
    "df.loc[df['imagePath'] == 'MP_TW_P005012']"
   ]
  },
  {
   "cell_type": "code",
   "execution_count": null,
   "metadata": {},
   "outputs": [],
   "source": [
    "image_dir = './train/'\n",
    "for file in os.listdir(image_dir):\n",
    "    image_name = file[:-4]\n",
    "    \n",
    "    # Get image_name match the one in dataset\n",
    "    yolo_df = df.loc[df['imagePath'] == image_name]\n",
    "    yolo_data = yolo_df.loc[:, ['classes','x_center','y_center','w','h']].copy()\n",
    "    save_path = './train/' + image_name + '.txt'\n",
    "    yolo_data.to_csv(save_path, header=False, index=False, sep=' ')"
   ]
  },
  {
   "cell_type": "code",
   "execution_count": null,
   "metadata": {},
   "outputs": [],
   "source": [
    "image_dir = './val/'\n",
    "for file in os.listdir(image_dir):\n",
    "    image_name = file[:-4]\n",
    "    \n",
    "\n",
    "    # Get image_name match the one in dataset\n",
    "    yolo_df = df.loc[df['imagePath'] == image_name]\n",
    "    yolo_data = yolo_df.loc[:, ['classes','x_center','y_center','w','h']].copy()\n",
    "    save_path = './val/' + image_name + '.txt'\n",
    "    yolo_data.to_csv(save_path, header=False, index=False, sep=' ')"
   ]
  },
  {
   "cell_type": "code",
   "execution_count": null,
   "metadata": {},
   "outputs": [],
   "source": [
    "image_dir = './images/test/'\n",
    "for file in os.listdir(image_dir):\n",
    "    image_name = file[:-4]\n",
    "    #print(image_name)\n",
    "    # Get image_name match the one in dataset\n",
    "    yolo_df = df.loc[df['imagePath'] == image_name]\n",
    "    yolo_data = yolo_df.loc[:, ['classes','x_center','y_center','w','h']].copy()\n",
    "    save_path = './labels/test/' + image_name + '.txt'\n",
    "    yolo_data.to_csv(save_path, header=False, index=False, sep=' ')"
   ]
  }
 ],
 "metadata": {
  "kernelspec": {
   "display_name": "Python 3.10.2 64-bit",
   "language": "python",
   "name": "python3"
  },
  "language_info": {
   "codemirror_mode": {
    "name": "ipython",
    "version": 3
   },
   "file_extension": ".py",
   "mimetype": "text/x-python",
   "name": "python",
   "nbconvert_exporter": "python",
   "pygments_lexer": "ipython3",
   "version": "3.10.2"
  },
  "orig_nbformat": 4,
  "vscode": {
   "interpreter": {
    "hash": "26de051ba29f2982a8de78e945f0abaf191376122a1563185a90213a26c5da77"
   }
  }
 },
 "nbformat": 4,
 "nbformat_minor": 2
}
